{
 "cells": [
  {
   "cell_type": "code",
   "execution_count": 7,
   "id": "7e4dc372-373b-4461-95c0-440fc9db0555",
   "metadata": {},
   "outputs": [],
   "source": [
    "#Create the Options first\n",
    "\n",
    "\n",
    "import google.auth\n",
    "from apache_beam.options.pipeline_options import PipelineOptions\n",
    "from apache_beam.options.pipeline_options import GoogleCloudOptions\n",
    "#from apache_beam.utils.pipeline_options import SetupOptions\n",
    "from apache_beam.options.pipeline_options import StandardOptions\n",
    "\n",
    "options = PipelineOptions()\n",
    "\n",
    "#Setting the Options Programmatically\n",
    "options = PipelineOptions(flags=[])\n",
    "\n",
    "#set the project to the default project in your current Google Cloud Environment\n",
    "_, options.view_as(GoogleCloudOptions).project=google.auth.default()\n",
    "\n",
    "# Sets the pipeline mode to streaming, so we can stream the data from PubSub.\n",
    "options.view_as(StandardOptions).streaming = True\n",
    "\n",
    "#Set the Google Cloud Region in which Cloud Dataflow run\n",
    "options.view_as(GoogleCloudOptions).region='us-west1'\n",
    "\n",
    "#Cloud Storage Location\n",
    "dataflow_gcs_location='gs://gcp-dataeng-demos-soumya/dataflow'\n",
    "\n",
    "#Dataflow Staging Location. This location is used to stage the Dataflow Pipeline and SDK binary\n",
    "options.view_as(GoogleCloudOptions).staging_location = '{}/staging'.format(dataflow_gcs_location)\n",
    "#Dataflow Temp Location. This location is used to store temporary files or intermediate results before finally outputting\n",
    "options.view_as(GoogleCloudOptions).temp_location = '{}/temp'.format(dataflow_gcs_location)\n",
    "#The directory to store the output files of the job\n",
    "output_gcs_location = '{}/output'.format(dataflow_gcs_location)"
   ]
  },
  {
   "cell_type": "code",
   "execution_count": 25,
   "id": "98cd93ec-e80c-420f-9155-4106086d3592",
   "metadata": {},
   "outputs": [
    {
     "ename": "AttributeError",
     "evalue": "module 'apache_beam' has no attribute 'Count'",
     "output_type": "error",
     "traceback": [
      "\u001b[0;31m---------------------------------------------------------------------------\u001b[0m",
      "\u001b[0;31mAttributeError\u001b[0m                            Traceback (most recent call last)",
      "Cell \u001b[0;32mIn[25], line 15\u001b[0m\n\u001b[1;32m     13\u001b[0m     stage3 \u001b[38;5;241m=\u001b[39m stage2\u001b[38;5;241m|\u001b[39m \u001b[38;5;124m\"\u001b[39m\u001b[38;5;124mMake Timestamped\u001b[39m\u001b[38;5;124m\"\u001b[39m\u001b[38;5;241m>>\u001b[39mbeam\u001b[38;5;241m.\u001b[39mMap(\u001b[38;5;28;01mlambda\u001b[39;00m x: beam\u001b[38;5;241m.\u001b[39mwindow\u001b[38;5;241m.\u001b[39mTimestampedValue(x, x[\u001b[38;5;124m'\u001b[39m\u001b[38;5;124mTime\u001b[39m\u001b[38;5;124m'\u001b[39m]))\n\u001b[1;32m     14\u001b[0m     stage4 \u001b[38;5;241m=\u001b[39m stage3\u001b[38;5;241m|\u001b[39m \u001b[38;5;124m\"\u001b[39m\u001b[38;5;124mwindow\u001b[39m\u001b[38;5;124m\"\u001b[39m \u001b[38;5;241m>>\u001b[39m beam\u001b[38;5;241m.\u001b[39mWindowInto(beam\u001b[38;5;241m.\u001b[39mwindow\u001b[38;5;241m.\u001b[39mFixedWindows(\u001b[38;5;241m22\u001b[39m))\n\u001b[0;32m---> 15\u001b[0m     stage5 \u001b[38;5;241m=\u001b[39m stage4\u001b[38;5;241m|\u001b[39m \u001b[38;5;124m\"\u001b[39m\u001b[38;5;124mSummarisation\u001b[39m\u001b[38;5;124m\"\u001b[39m\u001b[38;5;241m>>\u001b[39m\u001b[43mbeam\u001b[49m\u001b[38;5;241;43m.\u001b[39;49m\u001b[43mCount\u001b[49m()\u001b[38;5;241m.\u001b[39mwithout_defaults()\n\u001b[1;32m     17\u001b[0m ib\u001b[38;5;241m.\u001b[39mshow_graph(p)    \n\u001b[1;32m     18\u001b[0m ib\u001b[38;5;241m.\u001b[39mshow(stage1, include_window_info\u001b[38;5;241m=\u001b[39m\u001b[38;5;28;01mTrue\u001b[39;00m)\n",
      "\u001b[0;31mAttributeError\u001b[0m: module 'apache_beam' has no attribute 'Count'"
     ]
    }
   ],
   "source": [
    "import apache_beam as beam\n",
    "from apache_beam.runners.interactive.interactive_runner import InteractiveRunner\n",
    "import apache_beam.runners.interactive.interactive_beam as ib\n",
    "import json\n",
    "\n",
    "\n",
    "\n",
    "\n",
    "\n",
    "with beam.Pipeline(InteractiveRunner(),options=options) as p:\n",
    "    stage1 = p|\"Input\" >> beam.io.ReadFromText('gs://gcp-dataeng-demos-soumya/dataflow/json-timestamp.json')\n",
    "    stage2 = stage1| \"Make Dictionary\">>beam.FlatMap(lambda x: json.loads(x)) #Use FlatMap instead of Map to unpack the list of dictionary items\n",
    "    stage3 = stage2| \"Make Timestamped\">>beam.Map(lambda x: beam.window.TimestampedValue(x, x['Time']))\n",
    "    stage4 = stage3| \"window\" >> beam.WindowInto(beam.window.FixedWindows(22))\n",
    "    stage5 = stage4| \"Summarisation\">>beam.Count().without_defaults()\n",
    "    \n",
    "ib.show_graph(p)    \n",
    "ib.show(stage1, include_window_info=True)\n",
    "ib.show(stage2, include_window_info=True)\n",
    "ib.show(stage3, include_window_info=True)\n",
    "ib.show(stage4, include_window_info=True)\n",
    "ib.show(stage5, include_window_info=True)"
   ]
  },
  {
   "cell_type": "code",
   "execution_count": null,
   "id": "83269d27-0ea9-420b-8d96-38ba7e516981",
   "metadata": {},
   "outputs": [],
   "source": []
  }
 ],
 "metadata": {
  "kernelspec": {
   "display_name": "01. Apache Beam 2.44.0 for Python 3",
   "language": "python",
   "name": "01-apache-beam-2.44.0"
  },
  "language_info": {
   "codemirror_mode": {
    "name": "ipython",
    "version": 3
   },
   "file_extension": ".py",
   "mimetype": "text/x-python",
   "name": "python",
   "nbconvert_exporter": "python",
   "pygments_lexer": "ipython3",
   "version": "3.8.10"
  }
 },
 "nbformat": 4,
 "nbformat_minor": 5
}
